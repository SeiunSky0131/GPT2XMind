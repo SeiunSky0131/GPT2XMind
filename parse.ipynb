{
 "cells": [
  {
   "cell_type": "code",
   "execution_count": 32,
   "metadata": {},
   "outputs": [],
   "source": [
    "import re\n",
    "\n",
    "def parse(text):\n",
    "    '''\n",
    "    Parse the text from the OpenAI API. Return a list of strings.\n",
    "    '''\n",
    "    return re.findall(r'[0-9]+[.] (.*)', text)"
   ]
  },
  {
   "cell_type": "code",
   "execution_count": 33,
   "metadata": {},
   "outputs": [
    {
     "name": "stdout",
     "output_type": "stream",
     "text": [
      "['High-dimensional data: KD-trees are most efficient when searching high-dimensional data. Traditional search algorithms can suffer from the \"curse of dimensionality\" which means that the search time grows exponentially with the number of dimensions. KD-trees provide a more efficient way to search high-dimensional data because they divide the space recursively into smaller regions.', 'Static data: KD-trees are best suited for static data. In other words, the data should not change frequently. Building a KD-tree is an expensive operation and updating the tree can be time-consuming. If the data is updated frequently, then a KD-tree may not be the best choice.', 'Balanced data: KD-trees work best when the data is evenly distributed across the dimension. If the data is clustered in certain regions, then the search time can be significantly impacted.', 'Approximate nearest neighbor search: KD-trees provide quick access to approximate nearest neighbors. If you only need to find the closest data point within a certain distance, then KD-trees are a good choice. However, if you need to find the exact nearest neighbor, then other algorithms may be more suitable.']\n",
      "4\n"
     ]
    }
   ],
   "source": [
    "f = open(\"answer_kdtree.txt\", \"r\")\n",
    "text = f.read()\n",
    "print(parse(text))\n",
    "print(len(parse(text)))"
   ]
  }
 ],
 "metadata": {
  "kernelspec": {
   "display_name": "Python 3",
   "language": "python",
   "name": "python3"
  },
  "language_info": {
   "codemirror_mode": {
    "name": "ipython",
    "version": 3
   },
   "file_extension": ".py",
   "mimetype": "text/x-python",
   "name": "python",
   "nbconvert_exporter": "python",
   "pygments_lexer": "ipython3",
   "version": "3.8.10"
  },
  "orig_nbformat": 4
 },
 "nbformat": 4,
 "nbformat_minor": 2
}
